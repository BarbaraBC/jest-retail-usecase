{
 "cells": [
  {
   "cell_type": "markdown",
   "id": "a8e379c3",
   "metadata": {},
   "source": [
    "<img src=\"img/Deloitte_logo.png\" align=\"right\" style=\"width:150px;\"/>"
   ]
  },
  {
   "cell_type": "markdown",
   "id": "234b53eb",
   "metadata": {},
   "source": [
    "# JEST - Mind Your Data\n",
    "\n",
    "## Workshop: Segmentação de cliente de retalho usando ML Ops\n",
    "\n",
    "Bruno Parra, Bárbara Correia"
   ]
  },
  {
   "cell_type": "markdown",
   "id": "b0e6c2fe",
   "metadata": {},
   "source": [
    "## Table of contents\n",
    "* [0. The challenge](#0)\n",
    "* [1. Know the data](#1)\n",
    "* [2. Exploratory Data Analysis](#2)\n",
    "* [3. Feature engineering](#3)\n",
    "* [4. Modelling](#4)\n",
    "* [5. Result assessment (1)](#5)\n",
    "* [6. Refactoring (MLflow)](#6)\n",
    "* [7. Result assessment (2)](#7)"
   ]
  },
  {
   "cell_type": "markdown",
   "id": "81f5854e",
   "metadata": {},
   "source": [
    "## 0. The challenge <a class=\"anchor\" id=\"0\"></a>\n",
    "\n",
    "You are provided with historical sales data for 45 stores located in different regions - each store contains a number of departments. The company also runs several promotional markdown events throughout the year. These markdowns precede prominent holidays, the four largest of which are the Super Bowl, Labor Day, Thanksgiving, and Christmas. The weeks including these holidays are weighted five times higher in the evaluation than non-holiday weeks.\n",
    "\n",
    "**Tasks:**\n",
    "* Predict the department-wide sales for each store for the following year\n",
    "* Model the effects of markdowns on holiday weeks\n",
    "* Provide recommended actions based on the insights drawn, with prioritization placed on largest business impact"
   ]
  },
  {
   "cell_type": "markdown",
   "id": "12ede644",
   "metadata": {},
   "source": [
    "## 1. Know the data <a class=\"anchor\" id=\"1\"></a>"
   ]
  },
  {
   "cell_type": "code",
   "execution_count": 1,
   "id": "cc4ff61d",
   "metadata": {},
   "outputs": [],
   "source": [
    "import pandas as pd\n",
    "import numpy as np\n",
    "import matplotlib.pyplot as plt"
   ]
  },
  {
   "cell_type": "markdown",
   "id": "00589446",
   "metadata": {},
   "source": [
    "## 2. Exploratory Data Analysis <a class=\"anchor\" id=\"2\"></a>"
   ]
  },
  {
   "cell_type": "code",
   "execution_count": null,
   "id": "14ce26cb",
   "metadata": {},
   "outputs": [],
   "source": []
  },
  {
   "cell_type": "markdown",
   "id": "7b0d7cf5",
   "metadata": {},
   "source": [
    "## 3. Feature engineering <a class=\"anchor\" id=\"3\"></a>"
   ]
  },
  {
   "cell_type": "code",
   "execution_count": null,
   "id": "51e2bf7f",
   "metadata": {},
   "outputs": [],
   "source": []
  },
  {
   "cell_type": "markdown",
   "id": "53c445f8",
   "metadata": {},
   "source": [
    "## 4. Modelling <a class=\"anchor\" id=\"4\"></a>"
   ]
  },
  {
   "cell_type": "code",
   "execution_count": null,
   "id": "8ee298e2",
   "metadata": {},
   "outputs": [],
   "source": []
  },
  {
   "cell_type": "markdown",
   "id": "653f72b0",
   "metadata": {},
   "source": [
    "## 5. Result assessment (1) <a class=\"anchor\" id=\"5\"></a>"
   ]
  },
  {
   "cell_type": "code",
   "execution_count": null,
   "id": "a1709b65",
   "metadata": {},
   "outputs": [],
   "source": []
  },
  {
   "cell_type": "markdown",
   "id": "c39a8825",
   "metadata": {},
   "source": [
    "## 6. Refactoring (MLflow) <a class=\"anchor\" id=\"6\"></a>"
   ]
  },
  {
   "cell_type": "code",
   "execution_count": null,
   "id": "76e88e7b",
   "metadata": {},
   "outputs": [],
   "source": []
  },
  {
   "cell_type": "markdown",
   "id": "c5414d53",
   "metadata": {},
   "source": [
    "## 7. Result assessment (2) <a class=\"anchor\" id=\"7\"></a>"
   ]
  },
  {
   "cell_type": "code",
   "execution_count": null,
   "id": "358120ed",
   "metadata": {},
   "outputs": [],
   "source": []
  },
  {
   "cell_type": "code",
   "execution_count": null,
   "id": "b430a65a",
   "metadata": {},
   "outputs": [],
   "source": []
  },
  {
   "cell_type": "code",
   "execution_count": null,
   "id": "c6616134",
   "metadata": {},
   "outputs": [],
   "source": []
  }
 ],
 "metadata": {
  "kernelspec": {
   "display_name": "Python 3 (ipykernel)",
   "language": "python",
   "name": "python3"
  },
  "language_info": {
   "codemirror_mode": {
    "name": "ipython",
    "version": 3
   },
   "file_extension": ".py",
   "mimetype": "text/x-python",
   "name": "python",
   "nbconvert_exporter": "python",
   "pygments_lexer": "ipython3",
   "version": "3.10.0"
  }
 },
 "nbformat": 4,
 "nbformat_minor": 5
}
