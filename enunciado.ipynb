{
 "cells": [
  {
   "cell_type": "markdown",
   "id": "f6d16e5a",
   "metadata": {},
   "source": [
    "<img src=\"img/Deloitte_logo.png\" align=\"right\" style=\"width:150px;\"/>"
   ]
  },
  {
   "cell_type": "markdown",
   "id": "d3448fd0",
   "metadata": {},
   "source": [
    "# JEST - Mind Your Data\n",
    "\n",
    "## Workshop: Segmentação de cliente de retalho usando ML Ops\n",
    "\n",
    "Bruno Parra, Bárbara Correia"
   ]
  },
  {
   "cell_type": "markdown",
   "id": "15e6addc",
   "metadata": {},
   "source": [
    "## Table of contents\n",
    "* [0. The challenge](#0)\n",
    "* [1. Data](#1)\n",
    "* [2. Exploratory Data Analysis](#2)\n",
    "* [3. Feature engineering](#3)\n",
    "* [4. Modelling](#4)\n",
    "* [5. Result assessment (1)](#5)\n",
    "* [6. Refactoring (MLflow)](#6)\n",
    "* [7. Result assessment (2)](#7)"
   ]
  },
  {
   "cell_type": "markdown",
   "id": "36dba4db",
   "metadata": {},
   "source": [
    "## 0. The challenge <a class=\"anchor\" id=\"0\"></a>\n",
    "\n",
    "You are provided with historical sales data for 45 stores located in different regions - each store contains a number of departments. The company also runs several promotional markdown events throughout the year. These markdowns precede prominent holidays, the four largest of which are the Super Bowl, Labor Day, Thanksgiving, and Christmas. The weeks including these holidays are weighted five times higher in the evaluation than non-holiday weeks.\n",
    "\n",
    "**Tasks:**\n",
    "* Predict the department-wide sales for each store for the following year\n",
    "* Model the effects of markdowns on holiday weeks\n",
    "* Provide recommended actions based on the insights drawn, with prioritization placed on largest business impact"
   ]
  },
  {
   "cell_type": "markdown",
   "id": "009795ad",
   "metadata": {},
   "source": [
    "## 1. Data <a class=\"anchor\" id=\"1\"></a>"
   ]
  },
  {
   "cell_type": "code",
   "execution_count": 1,
   "id": "ef6d22f4",
   "metadata": {},
   "outputs": [],
   "source": [
    "import pandas as pd\n",
    "import numpy as np\n",
    "import matplotlib.pyplot as plt"
   ]
  },
  {
   "cell_type": "code",
   "execution_count": 2,
   "id": "f1ff5ef7",
   "metadata": {},
   "outputs": [
    {
     "data": {
      "text/html": [
       "<div>\n",
       "<style scoped>\n",
       "    .dataframe tbody tr th:only-of-type {\n",
       "        vertical-align: middle;\n",
       "    }\n",
       "\n",
       "    .dataframe tbody tr th {\n",
       "        vertical-align: top;\n",
       "    }\n",
       "\n",
       "    .dataframe thead th {\n",
       "        text-align: right;\n",
       "    }\n",
       "</style>\n",
       "<table border=\"1\" class=\"dataframe\">\n",
       "  <thead>\n",
       "    <tr style=\"text-align: right;\">\n",
       "      <th></th>\n",
       "      <th>Store</th>\n",
       "      <th>Dept</th>\n",
       "      <th>Date</th>\n",
       "      <th>Weekly_Sales</th>\n",
       "      <th>IsHoliday</th>\n",
       "    </tr>\n",
       "  </thead>\n",
       "  <tbody>\n",
       "    <tr>\n",
       "      <th>0</th>\n",
       "      <td>1</td>\n",
       "      <td>1</td>\n",
       "      <td>05/02/2010</td>\n",
       "      <td>24924.50</td>\n",
       "      <td>False</td>\n",
       "    </tr>\n",
       "    <tr>\n",
       "      <th>1</th>\n",
       "      <td>1</td>\n",
       "      <td>1</td>\n",
       "      <td>12/02/2010</td>\n",
       "      <td>46039.49</td>\n",
       "      <td>True</td>\n",
       "    </tr>\n",
       "    <tr>\n",
       "      <th>2</th>\n",
       "      <td>1</td>\n",
       "      <td>1</td>\n",
       "      <td>19/02/2010</td>\n",
       "      <td>41595.55</td>\n",
       "      <td>False</td>\n",
       "    </tr>\n",
       "    <tr>\n",
       "      <th>3</th>\n",
       "      <td>1</td>\n",
       "      <td>1</td>\n",
       "      <td>26/02/2010</td>\n",
       "      <td>19403.54</td>\n",
       "      <td>False</td>\n",
       "    </tr>\n",
       "    <tr>\n",
       "      <th>4</th>\n",
       "      <td>1</td>\n",
       "      <td>1</td>\n",
       "      <td>05/03/2010</td>\n",
       "      <td>21827.90</td>\n",
       "      <td>False</td>\n",
       "    </tr>\n",
       "  </tbody>\n",
       "</table>\n",
       "</div>"
      ],
      "text/plain": [
       "   Store  Dept        Date  Weekly_Sales  IsHoliday\n",
       "0      1     1  05/02/2010      24924.50      False\n",
       "1      1     1  12/02/2010      46039.49       True\n",
       "2      1     1  19/02/2010      41595.55      False\n",
       "3      1     1  26/02/2010      19403.54      False\n",
       "4      1     1  05/03/2010      21827.90      False"
      ]
     },
     "execution_count": 2,
     "metadata": {},
     "output_type": "execute_result"
    }
   ],
   "source": [
    "df_sales=pd.read_csv('datasets/sales.csv')\n",
    "df_sales.head()"
   ]
  },
  {
   "cell_type": "markdown",
   "id": "6431fbe6",
   "metadata": {},
   "source": [
    "## 2. Exploratory Data Analysis <a class=\"anchor\" id=\"2\"></a>\n",
    "\n",
    "What kind of analysis can we pursue in order to get a general view of the data we are working with?\n",
    "\n",
    "#### Suggestions:\n",
    "* **Profilling**: shape of the dataset, \n",
    "* **Data quality**: check for empty values, duplicates, data types...\n",
    "* **Statistics**: mean, standard deviation, distribution, variable correlation, ...\n",
    "* **Graphical insights**: plot variables across time (...)"
   ]
  },
  {
   "cell_type": "markdown",
   "id": "98543ddf",
   "metadata": {},
   "source": [
    "## 3. Feature engineering <a class=\"anchor\" id=\"3\"></a>"
   ]
  },
  {
   "cell_type": "code",
   "execution_count": null,
   "id": "8bf5c7d8",
   "metadata": {},
   "outputs": [],
   "source": []
  },
  {
   "cell_type": "markdown",
   "id": "2a5339c6",
   "metadata": {},
   "source": [
    "## 4. Modelling <a class=\"anchor\" id=\"4\"></a>\n",
    "\n",
    "We will test a simple regressive model to forecast the sales volume."
   ]
  },
  {
   "cell_type": "code",
   "execution_count": 5,
   "id": "613c1804",
   "metadata": {},
   "outputs": [],
   "source": [
    "from sklearn.linear_model import LinearRegression"
   ]
  },
  {
   "cell_type": "markdown",
   "id": "8b619f8d",
   "metadata": {},
   "source": [
    "## 5. Result assessment (1) <a class=\"anchor\" id=\"5\"></a>"
   ]
  },
  {
   "cell_type": "code",
   "execution_count": null,
   "id": "14e1aa9d",
   "metadata": {},
   "outputs": [],
   "source": []
  },
  {
   "cell_type": "markdown",
   "id": "01e072ce",
   "metadata": {},
   "source": [
    "## 6. Refactoring (MLflow) <a class=\"anchor\" id=\"6\"></a>"
   ]
  },
  {
   "cell_type": "code",
   "execution_count": null,
   "id": "38d7215c",
   "metadata": {},
   "outputs": [],
   "source": []
  },
  {
   "cell_type": "markdown",
   "id": "4673473b",
   "metadata": {},
   "source": [
    "## 7. Result assessment (2) <a class=\"anchor\" id=\"7\"></a>"
   ]
  },
  {
   "cell_type": "code",
   "execution_count": null,
   "id": "c3f07277",
   "metadata": {},
   "outputs": [],
   "source": []
  }
 ],
 "metadata": {
  "kernelspec": {
   "display_name": "Python 3 (ipykernel)",
   "language": "python",
   "name": "python3"
  },
  "language_info": {
   "codemirror_mode": {
    "name": "ipython",
    "version": 3
   },
   "file_extension": ".py",
   "mimetype": "text/x-python",
   "name": "python",
   "nbconvert_exporter": "python",
   "pygments_lexer": "ipython3",
   "version": "3.10.0"
  }
 },
 "nbformat": 4,
 "nbformat_minor": 5
}
